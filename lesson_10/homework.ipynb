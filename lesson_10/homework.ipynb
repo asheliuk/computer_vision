{
 "cells": [
  {
   "cell_type": "markdown",
   "metadata": {},
   "source": [
    "### Step 1\n",
    "\n",
    "Decide what video you are going to use for this homework, select an object and generate the template. You can use any video you want (your own, from Youtube, etc.)\n",
    "and track any object you want (e.g. a car, a pedestrian, etc.)."
   ]
  },
  {
   "cell_type": "code",
   "execution_count": 3,
   "metadata": {},
   "outputs": [],
   "source": [
    "import os\n",
    "import cv2\n",
    "import numpy as np\n",
    "from matplotlib import pyplot as plt\n",
    "plt.rcParams['figure.figsize'] = [15, 10]\n",
    "\n",
    "output_dir_kcf = \"output_kcf\"\n",
    "output_dir_csrt = \"output_csrt\"\n",
    "os.makedirs(output_dir_kcf, exist_ok=True)\n",
    "os.makedirs(output_dir_csrt, exist_ok=True)\n",
    "\n",
    "video = cv2.VideoCapture('data/traffic.mp4')\n",
    "bbox = (389, 330, 231, 161)\n",
    "\n",
    "def run_tracker(tracker_type, output_dir):\n",
    "    video.set(cv2.CAP_PROP_POS_FRAMES, 0)\n",
    "    tracker = cv2.TrackerKCF_create() if tracker_type == \"KCF\" else cv2.TrackerCSRT_create()\n",
    "    success, frame = video.read()\n",
    "    \n",
    "    tracker.init(frame, bbox)\n",
    "\n",
    "    for i in range(15):\n",
    "        success, frame = video.read()\n",
    "        if not success:\n",
    "            break\n",
    "\n",
    "        success, box = tracker.update(frame)\n",
    "\n",
    "        if success:\n",
    "            x, y, w, h = map(int, box)\n",
    "            cv2.rectangle(frame, (x, y), (x + w, y + h), (0, 255, 0), 2)\n",
    "            cv2.putText(frame, f\"{tracker_type} Tracker\", (10, 30),\n",
    "                        cv2.FONT_HERSHEY_SIMPLEX, 0.7, (0, 255, 0), 2)\n",
    "        else:\n",
    "            cv2.putText(frame, \"Tracking failure!\", (10, 30),\n",
    "                        cv2.FONT_HERSHEY_SIMPLEX, 0.7, (0, 0, 255), 2)\n",
    "\n",
    "        cv2.imwrite(f\"{output_dir}/frame_{i:02d}.png\", frame)\n",
    "\n",
    "run_tracker(\"KCF\", output_dir_kcf)\n",
    "run_tracker(\"CSRT\", output_dir_csrt)"
   ]
  },
  {
   "cell_type": "code",
   "execution_count": null,
   "metadata": {},
   "outputs": [],
   "source": [
    "### Results comparing\n",
    "\n",
    "I don't see any difference between these two algorithms."
   ]
  }
 ],
 "metadata": {
  "kernelspec": {
   "display_name": "Python [conda env:cv]",
   "language": "python",
   "name": "conda-env-cv-py"
  },
  "language_info": {
   "codemirror_mode": {
    "name": "ipython",
    "version": 3
   },
   "file_extension": ".py",
   "mimetype": "text/x-python",
   "name": "python",
   "nbconvert_exporter": "python",
   "pygments_lexer": "ipython3",
   "version": "3.12.9"
  }
 },
 "nbformat": 4,
 "nbformat_minor": 4
}
