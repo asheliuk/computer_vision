{
 "cells": [
  {
   "cell_type": "markdown",
   "metadata": {},
   "source": [
    "### Step 1\n",
    "\n",
    "Decide what video you are going to use for this homework, select an object and generate the template. You can use any video you want (your own, from Youtube, etc.)\n",
    "and track any object you want (e.g. a car, a pedestrian, etc.)."
   ]
  },
  {
   "cell_type": "code",
   "execution_count": 2,
   "metadata": {},
   "outputs": [
    {
     "ename": "NameError",
     "evalue": "name 'frame' is not defined",
     "output_type": "error",
     "traceback": [
      "\u001b[0;31m---------------------------------------------------------------------------\u001b[0m",
      "\u001b[0;31mNameError\u001b[0m                                 Traceback (most recent call last)",
      "Cell \u001b[0;32mIn[2], line 15\u001b[0m\n\u001b[1;32m     12\u001b[0m video \u001b[38;5;241m=\u001b[39m cv2\u001b[38;5;241m.\u001b[39mVideoCapture(\u001b[38;5;124m'\u001b[39m\u001b[38;5;124mdata/traffic.mp4\u001b[39m\u001b[38;5;124m'\u001b[39m)\n\u001b[1;32m     13\u001b[0m \u001b[38;5;66;03m# bbox = (1137, 968, 696, 481) \u001b[39;00m\n\u001b[0;32m---> 15\u001b[0m bbox \u001b[38;5;241m=\u001b[39m cv2\u001b[38;5;241m.\u001b[39mselectROI(\u001b[38;5;124m\"\u001b[39m\u001b[38;5;124mSelect Object\u001b[39m\u001b[38;5;124m\"\u001b[39m, frame, \u001b[38;5;28;01mFalse\u001b[39;00m)\n\u001b[1;32m     16\u001b[0m cv2\u001b[38;5;241m.\u001b[39mwaitKey(\u001b[38;5;241m1\u001b[39m)\n\u001b[1;32m     17\u001b[0m cv2\u001b[38;5;241m.\u001b[39mdestroyAllWindows()\n",
      "\u001b[0;31mNameError\u001b[0m: name 'frame' is not defined"
     ]
    }
   ],
   "source": [
    "import os\n",
    "import cv2\n",
    "import numpy as np\n",
    "from matplotlib import pyplot as plt\n",
    "plt.rcParams['figure.figsize'] = [15, 10]\n",
    "\n",
    "output_dir_kcf = \"output_kcf\"\n",
    "output_dir_csrt = \"output_csrt\"\n",
    "os.makedirs(output_dir_kcf, exist_ok=True)\n",
    "os.makedirs(output_dir_csrt, exist_ok=True)\n",
    "\n",
    "video = cv2.VideoCapture('data/traffic.mp4')\n",
    "# bbox = (1137, 968, 696, 481) \n",
    "\n",
    "bbox = cv2.selectROI(\"Select Object\", frame, False)\n",
    "cv2.waitKey(1)\n",
    "cv2.destroyAllWindows()\n",
    "print(bbox)\n",
    "\n",
    "def run_tracker(tracker_type, output_dir):\n",
    "    video.set(cv2.CAP_PROP_POS_FRAMES, 0)\n",
    "    tracker = cv2.TrackerKCF_create() if tracker_type == \"KCF\" else cv2.TrackerCSRT_create()\n",
    "    success, frame = video.read()\n",
    "    \n",
    "    tracker.init(frame, bbox)\n",
    "\n",
    "    for i in range(15):\n",
    "        success, frame = video.read()\n",
    "        if not success:\n",
    "            break\n",
    "\n",
    "        success, box = tracker.update(frame)\n",
    "\n",
    "        if success:\n",
    "            x, y, w, h = map(int, box)\n",
    "            cv2.rectangle(frame, (x, y), (x + w, y + h), (0, 255, 0), 2)\n",
    "            cv2.putText(frame, f\"{tracker_type} Tracker\", (10, 30),\n",
    "                        cv2.FONT_HERSHEY_SIMPLEX, 0.7, (0, 255, 0), 2)\n",
    "        else:\n",
    "            cv2.putText(frame, \"Tracking failure!\", (10, 30),\n",
    "                        cv2.FONT_HERSHEY_SIMPLEX, 0.7, (0, 0, 255), 2)\n",
    "\n",
    "        cv2.imwrite(f\"{output_dir}/frame_{i:02d}.png\", frame)\n",
    "\n",
    "run_tracker(\"KCF\", output_dir_kcf)\n",
    "run_tracker(\"CSRT\", output_dir_csrt)"
   ]
  },
  {
   "cell_type": "code",
   "execution_count": null,
   "metadata": {},
   "outputs": [],
   "source": [
    "### Results comparing\n",
    "\n",
    "I don't see any difference between these two algorithms."
   ]
  }
 ],
 "metadata": {
  "kernelspec": {
   "display_name": "Python 3 (ipykernel)",
   "language": "python",
   "name": "python3"
  },
  "language_info": {
   "codemirror_mode": {
    "name": "ipython",
    "version": 3
   },
   "file_extension": ".py",
   "mimetype": "text/x-python",
   "name": "python",
   "nbconvert_exporter": "python",
   "pygments_lexer": "ipython3",
   "version": "3.12.9"
  }
 },
 "nbformat": 4,
 "nbformat_minor": 4
}
